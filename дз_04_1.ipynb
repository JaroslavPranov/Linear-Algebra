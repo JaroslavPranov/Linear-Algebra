{
  "nbformat": 4,
  "nbformat_minor": 0,
  "metadata": {
    "colab": {
      "name": "дз_04.1.ipynb",
      "provenance": [],
      "collapsed_sections": []
    },
    "kernelspec": {
      "name": "python3",
      "display_name": "Python 3"
    },
    "language_info": {
      "name": "python"
    }
  },
  "cells": [
    {
      "cell_type": "markdown",
      "source": [
        "__1.__ Решить систему уравнений методом Гаусса:\n",
        "\n",
        "$$\\begin{cases}\n",
        "x_{1}+x_{2}-x_{3}-2x_{4}=0, \\\\\n",
        "2x_{1}+x_{2}-x_{3}+x_{4}=-2, \\\\\n",
        "x_{1}+x_{2}-3x_{3}+x_{4}=4.\n",
        "\\end{cases}$$"
      ],
      "metadata": {
        "id": "TiI9A2cQZP7S"
      }
    },
    {
      "cell_type": "markdown",
      "source": [
        "Преобразуем расширенную матрицу системы путем элементарных преобразований:\n",
        "\n",
        "$$\\begin{pmatrix}\n",
        "\\left.\\begin{matrix}\n",
        "1 & 1 & -1 & -2 \\\\ \n",
        "2 & -1 & -1 & 1\\\\ \n",
        "1 & 1 & -3 & 1\n",
        "\\end{matrix}\\right|\n",
        "\\begin{matrix}\n",
        "0\\\\ \n",
        "-2\\\\\n",
        "4\n",
        "\\end{matrix}\n",
        "\\end{pmatrix}.$$\n",
        "\n",
        "Умножим 1 строку на -2 и сложим со 2 строкой. Умножим 1 строку на -1 и сложим с 3 строкой:\n",
        "\n",
        "$$\\begin{pmatrix}\n",
        "\\left.\\begin{matrix}\n",
        "1 & 1 & -1 & -2 \\\\ \n",
        "0 & -1 & 1 & 5 \\\\ \n",
        "0 & 0 & -2 & 3\n",
        "\\end{matrix}\\right|\n",
        "\\begin{matrix}\n",
        "0\\\\ \n",
        "-2\\\\\n",
        "4\n",
        "\\end{matrix}\n",
        "\\end{pmatrix}.$$\n",
        "\n",
        "Разделим каждую строку матрицы на соответсвующий ведущий элемент: 1 строку на 1, 2 строку на -1, 3 строку на -2:\n",
        "\n",
        "$$\\begin{pmatrix}\n",
        "\\left.\\begin{matrix}\n",
        "1 & 1 & -1 & -2 \\\\\n",
        "0 & 1 & -1 & -5 \\\\ \n",
        "0 & 0 & 1 & -\\frac{3}{2}\n",
        "\\end{matrix}\\right|\n",
        "\\begin{matrix}\n",
        "0\\\\ \n",
        "2\\\\\n",
        "-2\n",
        "\\end{matrix}\n",
        "\\end{pmatrix}.$$\n",
        "\n",
        " Выразим  $x_1, x_2, x_3$  относительно остальных переменных:\n",
        "\n",
        "<center>\n",
        "$x_1=−x_2+x_3+2x_4$\n",
        "\n",
        "$x_2=2+x_3+5x_4$\n",
        "\n",
        "$x_3=−2+\\frac{3}{2}x_4$\n",
        "</center>\n",
        "<h5>Решение:\n",
        "<center>\n",
        "$x_1=−2−3x_4$ \n",
        "\n",
        "$x_2=\\frac{13}{2}x_4$\n",
        "\n",
        "$x_3=−2+\\frac{3}{2}x_4$\n",
        "\n",
        "$x_4 - произвольное\\quad действительное\\quad число$\n",
        "</center>\n",
        "<h5>Частное решение:\n",
        "<center>\n",
        "$x_1=−2$\n",
        "\n",
        "$x_2=0$\n",
        "\n",
        "$x_3=−2$\n",
        "\n",
        "$x_4=0$\n",
        "</center>"
      ],
      "metadata": {
        "id": "Ix45rEv5aQsZ"
      }
    },
    {
      "cell_type": "code",
      "source": [
        "import numpy as np"
      ],
      "metadata": {
        "id": "7PJ7gTOje4F6"
      },
      "execution_count": 1,
      "outputs": []
    },
    {
      "cell_type": "code",
      "execution_count": null,
      "metadata": {
        "id": "zyrCgtq-ZHiZ"
      },
      "outputs": [],
      "source": [
        "def LU(A): \n",
        "  \n",
        "    n = len(A)\n",
        "    \n",
        "    L = [[0 for _ in range(n)] for _ in range(n)]\n",
        "    U = [[0 for _ in range(n)] for _ in range(n)] \n",
        "                  \n",
        "    for i in range(n):\n",
        "        for k in range(i, n):\n",
        "            s = 0; \n",
        "            \n",
        "            for j in range(i): \n",
        "                s += (L[i][j] * U[j][k]) \n",
        "  \n",
        "            U[i][k] = A[i][k] - s\n",
        "  \n",
        "        for k in range(i, n): \n",
        "            if (i == k):\n",
        "                L[i][i] = 1 \n",
        "            else:\n",
        "                s = 0\n",
        "                \n",
        "                for j in range(i): \n",
        "                    s += (L[k][j] * U[j][i])\n",
        "  \n",
        "                L[k][i] = ((A[k][i] - s) / U[i][i]) \n",
        "  \n",
        "    return L, U"
      ]
    },
    {
      "cell_type": "code",
      "source": [
        "A = np.array([[1, 1, -1, -2], [2, 1, -1, 1], [1, 1, -3, 1]])\n",
        "#A = np.array([[1, 2, 3], [7, 11, 5], [8, 9, 4]])\n",
        "b = np.array([0, -2, 4])\n",
        "L, U = LU(A)\n",
        "\n",
        "\n",
        "\n",
        "print(f'A:\\n{A}\\n')\n",
        "print(f'b:\\n{b}\\n')\n",
        "print(f'L:\\n{np.array(L)}\\n')\n",
        "print(f'U:\\n{np.array(U)}\\n')\n",
        "print(f'LU:\\n{np.array(L) @ np.array(U)}\\n')\n",
        "y = np.linalg.inv(np.array(L)) @ b\n",
        "print(f'y:\\n{y}\\n')\n",
        "\n",
        "x = np.linalg.inv(np.array(U)) @ y\n",
        "print(f'x:\\n{x}\\n')"
      ],
      "metadata": {
        "colab": {
          "base_uri": "https://localhost:8080/"
        },
        "id": "gOvDo8K2eI9m",
        "outputId": "de4336be-8cfc-45b9-9aea-5ee185825956"
      },
      "execution_count": null,
      "outputs": [
        {
          "output_type": "stream",
          "name": "stdout",
          "text": [
            "A:\n",
            "[[ 1  1 -1 -2]\n",
            " [ 2  1 -1  1]\n",
            " [ 1  1 -3  1]]\n",
            "\n",
            "b:\n",
            "[ 0 -2  4]\n",
            "\n",
            "L:\n",
            "[[ 1.  0.  0.]\n",
            " [ 2.  1.  0.]\n",
            " [ 1. -0.  1.]]\n",
            "\n",
            "U:\n",
            "[[ 1.  1. -1.]\n",
            " [ 0. -1.  1.]\n",
            " [ 0.  0. -2.]]\n",
            "\n",
            "LU:\n",
            "[[ 1.  1. -1.]\n",
            " [ 2.  1. -1.]\n",
            " [ 1.  1. -3.]]\n",
            "\n",
            "y:\n",
            "[ 0. -2.  4.]\n",
            "\n",
            "x:\n",
            "[-2.  0. -2.]\n",
            "\n"
          ]
        }
      ]
    },
    {
      "cell_type": "markdown",
      "source": [
        "__2.__ Проверить на совместность и выяснить, сколько решений будет иметь система линейных уравнений:\n",
        "\n",
        "   а) $\\begin{cases}\n",
        "3x_{1}-x_{2}+x_{3}=4, \\\\\n",
        "2x_{1}-5x_{2}-3x_{3}=-17, \\\\\n",
        "x_{1}+x_{2}-x_{3}=0;\n",
        "\\end{cases}$\n",
        "    \n",
        "   б) $\\begin{cases}\n",
        "2x_{1}-4x_{2}+6x_{3}=1, \\\\\n",
        "x_{1}-2x_{2}+3x_{3}=-2, \\\\\n",
        "3x_{1}-6x_{2}+9x_{3}=5;\n",
        "\\end{cases}$\n",
        "    \n",
        "   в) $\\begin{cases}\n",
        "x_{1}+2x_{2}+5x_{3}=4, \\\\\n",
        "3x_{1}+x_{2}-8x_{3}=-2. \n",
        "\\end{cases}$"
      ],
      "metadata": {
        "id": "xX22HSQUZYkx"
      }
    },
    {
      "cell_type": "markdown",
      "source": [
        "__Теорема__ \n",
        "\n",
        "Необходимым и достаточным условием совместности системы из $m$ уравнений с $n$ неизвестными является равенство между собой рангов матрицы коэффициентов $A$ и расширенной матрицы $\\tilde A$\n",
        "\n",
        "$$rank A=rank \\tilde A.$$"
      ],
      "metadata": {
        "id": "CqQSfI-sfRaL"
      }
    },
    {
      "cell_type": "markdown",
      "source": [
        "Причем:<br>\n",
        "1) если $rankA=rank \\tilde A=n$, где $n$ — число неизвестных, то система определена, т. е. имеет единственное решение;<br>\n",
        "2) если $rankA=rank \\tilde A<n$, то система имеет бесконечное количество решений;<br>\n",
        "3) если $rankA<rank \\tilde A$, то система несовместна."
      ],
      "metadata": {
        "id": "2QgU3C7yfUo2"
      }
    },
    {
      "cell_type": "code",
      "source": [
        "A = np.array([[3, -1, 1], [2, -5, -3], [1, 1, -1]])\n",
        "b = np.array([4, -17, 0])\n",
        "A_ext = np.column_stack([A, b])\n",
        "\n",
        "rank_A = np.linalg.matrix_rank(A)\n",
        "rank_A_ext = np.linalg.matrix_rank(A_ext)\n",
        "n = len(A[0])\n",
        "\n",
        "print(f'A:\\n{A}\\n')\n",
        "print(f'A_ext:\\n{A_ext}\\n')\n",
        "\n",
        "print(f'rank(A): {rank_A}\\n')\n",
        "print(f'rank(A_ext): {rank_A_ext}\\n')\n",
        "print(f'# of vars: {n}\\n')\n",
        "\n",
        "if rank_A == rank_A_ext == n:\n",
        "    print(f'Система имеет единственное решение.')\n",
        "elif rank_A == rank_A_ext < n:\n",
        "    print(f'Система имеет бесконечное кол-во решений.')\n",
        "elif rank_A < rank_A_ext:\n",
        "    print(f'Система несовместна.')"
      ],
      "metadata": {
        "colab": {
          "base_uri": "https://localhost:8080/"
        },
        "id": "8_CusrtNfdD5",
        "outputId": "86ef4f2b-170c-4731-c905-d85b820325c2"
      },
      "execution_count": 2,
      "outputs": [
        {
          "output_type": "stream",
          "name": "stdout",
          "text": [
            "A:\n",
            "[[ 3 -1  1]\n",
            " [ 2 -5 -3]\n",
            " [ 1  1 -1]]\n",
            "\n",
            "A_ext:\n",
            "[[  3  -1   1   4]\n",
            " [  2  -5  -3 -17]\n",
            " [  1   1  -1   0]]\n",
            "\n",
            "rank(A): 3\n",
            "\n",
            "rank(A_ext): 3\n",
            "\n",
            "# of vars: 3\n",
            "\n",
            "Система имеет единственное решение.\n"
          ]
        }
      ]
    },
    {
      "cell_type": "code",
      "source": [
        "A = np.array([[2, -4, 6], [1, -2, 3], [3, -6, 9]])\n",
        "b = np.array([1, -2, 5])\n",
        "A_ext = np.column_stack([A, b])\n",
        "\n",
        "rank_A = np.linalg.matrix_rank(A)\n",
        "rank_A_ext = np.linalg.matrix_rank(A_ext)\n",
        "n = len(A[0])\n",
        "\n",
        "print(f'A:\\n{A}\\n')\n",
        "print(f'A_ext:\\n{A_ext}\\n')\n",
        "\n",
        "print(f'rank(A): {rank_A}\\n')\n",
        "print(f'rank(A_ext): {rank_A_ext}\\n')\n",
        "print(f'# of vars: {n}\\n')\n",
        "\n",
        "if rank_A == rank_A_ext == n:\n",
        "    print(f'Система имеет единственное решение.')\n",
        "elif rank_A == rank_A_ext < n:\n",
        "    print(f'Система имеет бесконечное кол-во решений.')\n",
        "elif rank_A < rank_A_ext:\n",
        "    print(f'Система несовместна.')"
      ],
      "metadata": {
        "colab": {
          "base_uri": "https://localhost:8080/"
        },
        "id": "vKCQscTwfolI",
        "outputId": "32cade5c-be69-49de-a151-54508c79a405"
      },
      "execution_count": 3,
      "outputs": [
        {
          "output_type": "stream",
          "name": "stdout",
          "text": [
            "A:\n",
            "[[ 2 -4  6]\n",
            " [ 1 -2  3]\n",
            " [ 3 -6  9]]\n",
            "\n",
            "A_ext:\n",
            "[[ 2 -4  6  1]\n",
            " [ 1 -2  3 -2]\n",
            " [ 3 -6  9  5]]\n",
            "\n",
            "rank(A): 1\n",
            "\n",
            "rank(A_ext): 2\n",
            "\n",
            "# of vars: 3\n",
            "\n",
            "Система несовместна.\n"
          ]
        }
      ]
    },
    {
      "cell_type": "code",
      "source": [
        "A = np.array([[1, 2, 5], [3, 1, -8]])\n",
        "b = np.array([4, -2])\n",
        "A_ext = np.column_stack([A, b])\n",
        "\n",
        "rank_A = np.linalg.matrix_rank(A)\n",
        "rank_A_ext = np.linalg.matrix_rank(A_ext)\n",
        "n = len(A[0])\n",
        "\n",
        "print(f'A:\\n{A}\\n')\n",
        "print(f'A_ext:\\n{A_ext}\\n')\n",
        "\n",
        "print(f'rank(A): {rank_A}\\n')\n",
        "print(f'rank(A_ext): {rank_A_ext}\\n')\n",
        "print(f'# of vars: {n}\\n')\n",
        "\n",
        "if rank_A == rank_A_ext == n:\n",
        "    print(f'Система имеет единственное решение.')\n",
        "elif rank_A == rank_A_ext < n:\n",
        "    print(f'Система имеет бесконечное кол-во решений.')\n",
        "elif rank_A < rank_A_ext:\n",
        "    print(f'Система несовместна.')"
      ],
      "metadata": {
        "colab": {
          "base_uri": "https://localhost:8080/"
        },
        "id": "oJa5hJHkfsbX",
        "outputId": "d1cc5fd8-1b79-4a40-e9d9-4dad8dea812d"
      },
      "execution_count": 4,
      "outputs": [
        {
          "output_type": "stream",
          "name": "stdout",
          "text": [
            "A:\n",
            "[[ 1  2  5]\n",
            " [ 3  1 -8]]\n",
            "\n",
            "A_ext:\n",
            "[[ 1  2  5  4]\n",
            " [ 3  1 -8 -2]]\n",
            "\n",
            "rank(A): 2\n",
            "\n",
            "rank(A_ext): 2\n",
            "\n",
            "# of vars: 3\n",
            "\n",
            "Система имеет бесконечное кол-во решений.\n"
          ]
        }
      ]
    },
    {
      "cell_type": "markdown",
      "source": [
        "__3.__ Проверить на совместность и выяснить, сколько решений будет иметь система линейных уравнений, заданная расширенной матрицей\n",
        "\n",
        "$$\\tilde{A}=\\begin{pmatrix}\n",
        "\\left.\\begin{matrix}\n",
        "1 & 3 & -2 & 4\\\\ \n",
        "0 & 5 & 0 & 1\\\\ \n",
        "0 & 0 & 3 & 0\\\\ \n",
        "0 & 0 & 0 & 2\n",
        "\\end{matrix}\\right|\n",
        "\\begin{matrix}\n",
        "3\\\\ \n",
        "2\\\\\n",
        "4\\\\\n",
        "1\n",
        "\\end{matrix}\n",
        "\\end{pmatrix}.$$"
      ],
      "metadata": {
        "id": "IEJBOmeCZckm"
      }
    },
    {
      "cell_type": "code",
      "source": [
        "A = np.array([[1, 3, -2, 4], [0, 5, 0, 1], [0, 0, 3, 0], [0, 0, 0, 2]])\n",
        "b = np.array([3, 2, 4, 1])\n",
        "A_ext = np.column_stack([A, b])\n",
        "\n",
        "rank_A = np.linalg.matrix_rank(A)\n",
        "rank_A_ext = np.linalg.matrix_rank(A_ext)\n",
        "n = len(A[0])\n",
        "\n",
        "print(f'A:\\n{A}\\n')\n",
        "print(f'A_ext:\\n{A_ext}\\n')\n",
        "\n",
        "print(f'rank(A): {rank_A}\\n')\n",
        "print(f'rank(A_ext): {rank_A_ext}\\n')\n",
        "print(f'# of vars: {n}\\n')\n",
        "\n",
        "if rank_A == rank_A_ext == n:\n",
        "    print(f'Система имеет единственное решение.')\n",
        "elif rank_A == rank_A_ext < n:\n",
        "    print(f'Система имеет бесконечное кол-во решений.')\n",
        "elif rank_A < rank_A_ext:\n",
        "    print(f'Система несовместна.')"
      ],
      "metadata": {
        "colab": {
          "base_uri": "https://localhost:8080/"
        },
        "id": "hkuWobd3f0Fy",
        "outputId": "1629a1ff-c362-4004-b807-73c8c8d2a27a"
      },
      "execution_count": 5,
      "outputs": [
        {
          "output_type": "stream",
          "name": "stdout",
          "text": [
            "A:\n",
            "[[ 1  3 -2  4]\n",
            " [ 0  5  0  1]\n",
            " [ 0  0  3  0]\n",
            " [ 0  0  0  2]]\n",
            "\n",
            "A_ext:\n",
            "[[ 1  3 -2  4  3]\n",
            " [ 0  5  0  1  2]\n",
            " [ 0  0  3  0  4]\n",
            " [ 0  0  0  2  1]]\n",
            "\n",
            "rank(A): 4\n",
            "\n",
            "rank(A_ext): 4\n",
            "\n",
            "# of vars: 4\n",
            "\n",
            "Система имеет единственное решение.\n"
          ]
        }
      ]
    },
    {
      "cell_type": "markdown",
      "source": [
        "__4.__ Дана система линейных уравнений, заданная расширенной матрицей\n",
        "\n",
        "$$\\tilde{A}=\\begin{pmatrix}\n",
        "\\left.\\begin{matrix}\n",
        "1 & 2 & 3\\\\ \n",
        "4 & 5 & 6\\\\ \n",
        "7 & 8 & 9\n",
        "\\end{matrix}\\right|\n",
        "\\begin{matrix}\n",
        "a\\\\ \n",
        "b\\\\\n",
        "c\n",
        "\\end{matrix}\n",
        "\\end{pmatrix}.$$\n",
        "\n",
        "Найти соотношение между параметрами $a$, $b$ и $c$, при которых система является несовместной."
      ],
      "metadata": {
        "id": "XWcNJt22Z36f"
      }
    },
    {
      "cell_type": "markdown",
      "source": [
        "Запишем систему в виде расширенной матрицы.<br>\n",
        "\n",
        "### $$\\begin{pmatrix}\n",
        "\\left.\\begin{matrix}\n",
        "1 & 2 & 3 \\\\ \n",
        "4 & 5 & 6 \\\\ \n",
        "7 & 8 & 9\n",
        "\\end{matrix}\\right|\n",
        "\\begin{matrix}\n",
        "a\\\\ \n",
        "b\\\\\n",
        "c\n",
        "\\end{matrix}\n",
        "\\end{pmatrix}.$$\n",
        "\n",
        "1 строку умножим на 2 и вычтем и 2 строки.<br>\n",
        "1 строку умножим на 3 и вычтем и 3 строки.<br>\n",
        "\n",
        "### $$\\begin{pmatrix}\n",
        "\\left.\\begin{matrix}\n",
        "1 & 2 & 3 \\\\ \n",
        "2 & 1 & 0 \\\\ \n",
        "4 & 2 & 0\n",
        "\\end{matrix}\\right|\n",
        "\\begin{matrix}\n",
        "a\\\\ \n",
        "b - 2a\\\\\n",
        "c - 3a\n",
        "\\end{matrix}\n",
        "\\end{pmatrix}.$$\n",
        "\n",
        "2 строку умножим на 2 и вычтем из 3 строки. <br>\n",
        "\n",
        "### $$\\begin{pmatrix}\n",
        "\\left.\\begin{matrix}\n",
        "1 & 2 & 3 \\\\ \n",
        "2 & 1 & 0 \\\\ \n",
        "0 & 0 & 0\n",
        "\\end{matrix}\\right|\n",
        "\\begin{matrix}\n",
        "a\\\\ \n",
        "b - 2a\\\\\n",
        "c + a - 2b\n",
        "\\end{matrix}\n",
        "\\end{pmatrix}.$$\n",
        "\n",
        "Если $c + a - 2b \\neq 0$, то система несовместна.<br>"
      ],
      "metadata": {
        "id": "mwyBsV3yf8vw"
      }
    }
  ]
}