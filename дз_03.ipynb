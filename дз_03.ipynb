{
  "nbformat": 4,
  "nbformat_minor": 0,
  "metadata": {
    "colab": {
      "name": "дз_03.ipynb",
      "provenance": [],
      "collapsed_sections": []
    },
    "kernelspec": {
      "name": "python3",
      "display_name": "Python 3"
    },
    "language_info": {
      "name": "python"
    }
  },
  "cells": [
    {
      "cell_type": "markdown",
      "source": [
        "__1.__ Найти собственные векторы и собственные значения для линейного оператора, заданного матрицей\n",
        "\n",
        "### $$A=\\begin{pmatrix}\n",
        "-1 & -6\\\\ \n",
        "2 & 6\n",
        "\\end{pmatrix}.$$"
      ],
      "metadata": {
        "id": "Oo-Y_lQHP_eT"
      }
    },
    {
      "cell_type": "markdown",
      "source": [
        "__Решение__"
      ],
      "metadata": {
        "id": "wU8FN4wlQIPM"
      }
    },
    {
      "cell_type": "markdown",
      "source": [
        "Найдем собственные значения:"
      ],
      "metadata": {
        "id": "E7lk_SYYQLYX"
      }
    },
    {
      "cell_type": "markdown",
      "source": [
        "###  $$\\begin{vmatrix}\n",
        "-1-\\lambda & -6\\\\ \n",
        "2 & 6-\\lambda\n",
        "\\end{vmatrix} = 0,$$\n",
        "\n",
        "### $$(-1-\\lambda)(6-\\lambda)-2\\cdot(-6)=0,$$\n",
        "\n",
        "### $$\\lambda^{2}-5\\cdot\\lambda+6=0,$$\n",
        "\n",
        "### $$D=25-24=1,$$\n",
        "\n",
        "### $$\\lambda_{1}=2, \\lambda_{2}=3.$$"
      ],
      "metadata": {
        "id": "0pSnPKdDQO1t"
      }
    },
    {
      "cell_type": "markdown",
      "source": [
        "Найдем собственный ветор для $\\lambda_{1}$:"
      ],
      "metadata": {
        "id": "H5H53fMwQW_o"
      }
    },
    {
      "cell_type": "markdown",
      "source": [
        "### $$\\begin{pmatrix}\n",
        "-1 & -6\\\\ \n",
        "2 & 6\n",
        "\\end{pmatrix}\n",
        "\\begin{pmatrix}\n",
        "x_{1}\\\\ \n",
        "x_{2}\n",
        "\\end{pmatrix}=\n",
        "2\n",
        "\\begin{pmatrix}\n",
        "x_{1}\\\\ \n",
        "x_{2}\n",
        "\\end{pmatrix},\n",
        "$$\n",
        "### $$\\begin{cases}\n",
        "-x_{1}-6\\cdot x_{2}=2\\cdot x_{1}, \\\\\n",
        "2\\cdot x_{1}+6\\cdot x_{2}=2\\cdot x_{2},\n",
        "\\end{cases}$$ \n",
        "\n",
        "### $$\\begin{cases}\n",
        "-3\\cdot x_{1}= 6\\cdot x_{2}, \\\\\n",
        "2\\cdot x_{1} = -4\\cdot x_{2},\n",
        "\\end{cases}$$ "
      ],
      "metadata": {
        "id": "g9NLVtujQYuG"
      }
    },
    {
      "cell_type": "markdown",
      "source": [
        "__Ответ__"
      ],
      "metadata": {
        "id": "LXF0453YQpd-"
      }
    },
    {
      "cell_type": "markdown",
      "source": [
        "###  $$x_{1}= -2\\cdot x_{2},$$\n",
        "\n",
        "Если $x_{2}=1$, то $x_{1}=-2$.\n",
        "\n",
        " Получаем вектор $(-2,1)$"
      ],
      "metadata": {
        "id": "HSFSntagQq9k"
      }
    },
    {
      "cell_type": "markdown",
      "source": [
        "Найдем собственный ветор для $\\lambda_{2}$:"
      ],
      "metadata": {
        "id": "CnWxV4gNQ1jt"
      }
    },
    {
      "cell_type": "markdown",
      "source": [
        "### $$\\begin{pmatrix}\n",
        "-1 & -6\\\\ \n",
        "2 & 6\n",
        "\\end{pmatrix}\n",
        "\\begin{pmatrix}\n",
        "x_{1}\\\\ \n",
        "x_{2}\n",
        "\\end{pmatrix}=\n",
        "3\n",
        "\\begin{pmatrix}\n",
        "x_{1}\\\\ \n",
        "x_{2}\n",
        "\\end{pmatrix},\n",
        "$$\n",
        "\n",
        "### $$\\begin{cases}\n",
        "-x_{1}-6\\cdot x_{2}=3\\cdot x_{1}, \\\\\n",
        "2\\cdot x_{1}+6\\cdot x_{2}=3\\cdot x_{2},\n",
        "\\end{cases}$$ \n",
        "\n",
        "### $$\\begin{cases}\n",
        "-4\\cdot x_{1}= 6\\cdot x_{2}, \\\\\n",
        "2\\cdot x_{1} = -3\\cdot x_{2},\n",
        "\\end{cases}$$ "
      ],
      "metadata": {
        "id": "yuHHOVa-Q41U"
      }
    },
    {
      "cell_type": "markdown",
      "source": [
        "__Ответ__"
      ],
      "metadata": {
        "id": "loBK0BPnRDwZ"
      }
    },
    {
      "cell_type": "markdown",
      "source": [
        "### $$2x_{1}= -3\\cdot x_{2},$$\n",
        "\n",
        "Если $x_{2}=2$, то $x_{1}=-3$.\n",
        "\n",
        " Получаем вектор $(-3,2)$"
      ],
      "metadata": {
        "id": "55DwvsYQRIA2"
      }
    },
    {
      "cell_type": "code",
      "source": [
        "import matplotlib.pyplot as plt\n",
        "import numpy as np\n",
        "np.set_printoptions(precision=2, suppress=True)"
      ],
      "metadata": {
        "id": "D6CyIm_jgxo4"
      },
      "execution_count": null,
      "outputs": []
    },
    {
      "cell_type": "code",
      "source": [
        "a = np.array([[-1, -6], [2, 6]])\n",
        "w, v = np.linalg.eig(a)\n",
        " \n",
        "print(f'Матрица A:\\n{a}')\n",
        "print(f'Собственные значения:\\n{w}')\n",
        "print(f'Собственные векторы:\\n{v}')"
      ],
      "metadata": {
        "colab": {
          "base_uri": "https://localhost:8080/"
        },
        "id": "2E9hpmQNhLNd",
        "outputId": "46364c47-3820-45f2-f1ca-5ed8b336eade"
      },
      "execution_count": null,
      "outputs": [
        {
          "output_type": "stream",
          "name": "stdout",
          "text": [
            "Матрица A:\n",
            "[[-1  2]\n",
            " [-6  6]]\n",
            "Собственные значения:\n",
            "[2. 3.]\n",
            "Собственные векторы:\n",
            "[[-0.55 -0.45]\n",
            " [-0.83 -0.89]]\n"
          ]
        }
      ]
    },
    {
      "cell_type": "markdown",
      "source": [
        "__2.__ Дан оператор поворота на 180 градусов, задаваемый матрицей \n",
        "\n",
        "### $$A=\\begin{pmatrix}\n",
        "-1 & 0\\\\ \n",
        "0 & -1\n",
        "\\end{pmatrix}.$$\n",
        "\n",
        "Показать, что __любой__ вектор является для него собственным."
      ],
      "metadata": {
        "id": "g7jpaU8yRMu0"
      }
    },
    {
      "cell_type": "markdown",
      "source": [
        "__Решение__"
      ],
      "metadata": {
        "id": "xvgUyjlGRTXb"
      }
    },
    {
      "cell_type": "markdown",
      "source": [
        "Найдем собственные значения:\n",
        "\n",
        "### $$\\begin{vmatrix}\n",
        "-1-\\lambda & 0\\\\ \n",
        "0 & -1-\\lambda\n",
        "\\end{vmatrix} = 0,$$\n",
        "\n",
        "### $$(-1-\\lambda)(-1-\\lambda)=0,$$\n",
        "\n",
        "### $$(-1-\\lambda)^{2}=0,$$\n",
        "\n",
        "### $$\\lambda_{1}=\\lambda_{2}=-1$$"
      ],
      "metadata": {
        "id": "sbkZFnDgRbKS"
      }
    },
    {
      "cell_type": "markdown",
      "source": [
        "Предположим, что любой вектор $x$ является собственным вектором заданного линейного оператора, тогда должно существовать некоторое вещественное число $\\lambda$, при котором \n",
        "\n",
        "### $$\\begin{pmatrix}\n",
        "-1 & 0\\\\ \n",
        "0 & -1\n",
        "\\end{pmatrix}\n",
        "\\begin{pmatrix}\n",
        "x_{1}\\\\ \n",
        "x_{2} \n",
        "\\end{pmatrix}=\n",
        "\\lambda\n",
        "\\begin{pmatrix}\n",
        "x_{1}\\\\ \n",
        "x_{2}\n",
        "\\end{pmatrix},\n",
        "$$"
      ],
      "metadata": {
        "id": "7y6edgJ9RwoY"
      }
    },
    {
      "cell_type": "markdown",
      "source": [
        "Из этого будет следовать, что \n",
        "\n",
        "### $$\\begin{cases}\n",
        "-x_{1}=\\lambda \\cdot x_{1}\\\\ \n",
        "-x_{2}=\\lambda \\cdot x_{2}\n",
        "\\end{cases}\n",
        ".$$"
      ],
      "metadata": {
        "id": "_yxFzTGlR20l"
      }
    },
    {
      "cell_type": "markdown",
      "source": [
        "При $\\lambda = -1$ получаем:\n",
        "\n",
        "### $$\\begin{cases}\n",
        "-x_{1}=-x_{1}\\\\ \n",
        "-x_{2}=-x_{2}\n",
        "\\end{cases}$$\n",
        "\n",
        "или \n",
        "\n",
        "### $$\\begin{cases}\n",
        "0\\cdot x_{1}=0\\\\ \n",
        "0\\cdot x_{2}=0\n",
        "\\end{cases}$$\n",
        "\n",
        "То есть $x_1$ и $x_2$ любые"
      ],
      "metadata": {
        "id": "3ljDri8rR6kg"
      }
    },
    {
      "cell_type": "markdown",
      "source": [
        "__3.__ Пусть линейный оператор задан матрицей\n",
        "\n",
        "### $$A=\\begin{pmatrix}\n",
        "1 & 1\\\\ \n",
        "-1 & 3\n",
        "\\end{pmatrix}.$$\n",
        "\n",
        "Установить, является ли вектор $x=(1,1)$ собственным вектором этого линейного оператора."
      ],
      "metadata": {
        "id": "rg6LHQzFSBT4"
      }
    },
    {
      "cell_type": "markdown",
      "source": [
        "__Решение__"
      ],
      "metadata": {
        "id": "DcB0K93FSE98"
      }
    },
    {
      "cell_type": "markdown",
      "source": [
        "Предположим, что вектор $x$ является собственным вектором заданного линейного оператора, тогда должно существовать некоторое вещественное число $\\lambda$, при котором \n",
        "\n",
        "### $$\\begin{pmatrix}\n",
        "1 & 1\\\\ \n",
        "-1 & 3\n",
        "\\end{pmatrix}\n",
        "\\begin{pmatrix}\n",
        "1\\\\ \n",
        "1 \n",
        "\\end{pmatrix}=\n",
        "\\lambda\n",
        "\\begin{pmatrix}\n",
        "1\\\\ \n",
        "1\n",
        "\\end{pmatrix}.\n",
        "$$"
      ],
      "metadata": {
        "id": "D8cGcYegSGG2"
      }
    },
    {
      "cell_type": "markdown",
      "source": [
        "Из этого будет следовать, что \n",
        "\n",
        "### $$\\begin{cases}\n",
        "1+1=1\\cdot\\lambda \\\\ \n",
        "-1+3 = 1\\cdot \\lambda\n",
        "\\end{cases}\n",
        "\\Rightarrow\n",
        "\\begin{cases}\n",
        "\\lambda=2\\\\ \n",
        "\\lambda=2\n",
        "\\end{cases}.$$"
      ],
      "metadata": {
        "id": "L79U90YtSOca"
      }
    },
    {
      "cell_type": "markdown",
      "source": [
        "Таким образом, вектор $x=(1,1)$ является собственным вектором линейного оператора, заданного матрицей $A$, и его собственное значение составляет $\\lambda=2.$"
      ],
      "metadata": {
        "id": "cJt2G1LaSbIf"
      }
    },
    {
      "cell_type": "markdown",
      "source": [
        "__4.__ Пусть линейный оператор задан матрицей\n",
        "\n",
        "### $$A=\\begin{pmatrix}\n",
        "0 & 3 & 0\\\\ \n",
        "3 & 0 & 0\\\\\n",
        "0 & 0 & 3\n",
        "\\end{pmatrix}.$$\n",
        "\n",
        "Установить, является ли вектор $x=(3, -3, -4)$ собственным вектором этого линейного оператора."
      ],
      "metadata": {
        "id": "y_-41801XOtY"
      }
    },
    {
      "cell_type": "markdown",
      "source": [
        "__Решение__"
      ],
      "metadata": {
        "id": "mowzNyZ1XROo"
      }
    },
    {
      "cell_type": "markdown",
      "source": [
        "Предположим, что вектор $x$ является собственным вектором заданного линейного оператора, тогда должно существовать некоторое вещественное число $\\lambda$, при котором \n",
        "\n",
        "### $$\\begin{pmatrix}\n",
        "0 & 3 & 0\\\\ \n",
        "3 & 0 & 0\\\\\n",
        "0 & 0 &3\n",
        "\\end{pmatrix}\n",
        "\\begin{pmatrix}\n",
        "3\\\\ \n",
        "-3\\\\\n",
        "-4\n",
        "\\end{pmatrix}=\n",
        "\\lambda\n",
        "\\begin{pmatrix}\n",
        "3\\\\ \n",
        "-3\\\\\n",
        "-4\n",
        "\\end{pmatrix}.\n",
        "$$"
      ],
      "metadata": {
        "id": "pa2Xbb8RXVQ-"
      }
    },
    {
      "cell_type": "markdown",
      "source": [
        "Из этого будет следовать, что \n",
        "\n",
        "### $$\\begin{cases}\n",
        "-9=3\\cdot\\lambda \\\\ \n",
        "9 = -3\\cdot \\lambda \\\\\n",
        "-12=-4\\cdot\\lambda\n",
        "\\end{cases}\n",
        "\\Rightarrow\n",
        "\\begin{cases}\n",
        "\\lambda=-3\\\\ \n",
        "\\lambda=-3 \\\\\n",
        "\\lambda=3\n",
        "\\end{cases}.$$"
      ],
      "metadata": {
        "id": "1DSiLpZQXviC"
      }
    },
    {
      "cell_type": "markdown",
      "source": [
        "Такая система не имеет смысла, следовательно, вектор $x=(3, -3, -4)$ не является собственным вектором линейного оператора, заданного матрицей $A$."
      ],
      "metadata": {
        "id": "xWxz29n0X25d"
      }
    }
  ]
}