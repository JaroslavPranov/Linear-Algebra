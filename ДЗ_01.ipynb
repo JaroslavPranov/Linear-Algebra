{
  "nbformat": 4,
  "nbformat_minor": 0,
  "metadata": {
    "colab": {
      "name": "ДЗ_01.ipynb",
      "provenance": [],
      "collapsed_sections": []
    },
    "kernelspec": {
      "name": "python3",
      "display_name": "Python 3"
    },
    "language_info": {
      "name": "python"
    }
  },
  "cells": [
    {
      "cell_type": "markdown",
      "source": [
        "**Часть 1.**"
      ],
      "metadata": {
        "id": "eIbqH5_kZ-Qf"
      }
    },
    {
      "cell_type": "markdown",
      "source": [
        "1. Исследовать на линейную зависимость:\n",
        "\n",
        "𝑓1(𝑥)=𝑒𝑥,  𝑓2(𝑥)=1,  𝑓3(𝑥)=𝑥+1,  𝑓4(𝑥)=𝑥−𝑒𝑥."
      ],
      "metadata": {
        "id": "zGbbYv5dOSiZ"
      }
    },
    {
      "cell_type": "markdown",
      "source": [
        "Решение:  "
      ],
      "metadata": {
        "id": "6r2VmcjTvMKx"
      }
    },
    {
      "cell_type": "markdown",
      "source": [
        "𝑓4(𝑥) = 𝑓3(𝑥) − 𝑓2(𝑥) − 𝑓1(𝑥) = 𝑥+1 − 1 − 𝑒𝑥 = 𝑥−𝑒𝑥\n",
        "\n",
        "Вектор 𝑓4(𝑥) является линейной комбинацией остальных векторов, поэтому векторы линейно зависимы."
      ],
      "metadata": {
        "id": "MeMI-wtzQmjq"
      }
    },
    {
      "cell_type": "markdown",
      "source": [
        "2. Исследовать на линейную зависимость:\n",
        "\n",
        "𝑓1(𝑥)=2, 𝑓2(𝑥)=𝑥, 𝑓3(𝑥)=𝑥2, 𝑓4(𝑥)=(𝑥+1)2"
      ],
      "metadata": {
        "id": "CZLoWz3nS_br"
      }
    },
    {
      "cell_type": "markdown",
      "source": [
        "𝑓4(𝑥) = 𝑓3(𝑥) + 2𝑓2(𝑥) + 0.5𝑓1(𝑥) = 𝑥2 + 2𝑥 + 1 = (𝑥+1)2\n",
        "\n",
        "Вектор 𝑓4(𝑥) является линейной комбинацией остальных векторов, поэтому векторы линейно зависимы."
      ],
      "metadata": {
        "id": "rG3HbUNlTGYQ"
      }
    },
    {
      "cell_type": "markdown",
      "source": [
        "3. Найти координаты вектора  𝑥 = (2,3,5) ∈ ℝ3  в базисе  𝑏1 = (0,0,10) ,  𝑏2 = (2,0,0) ,  𝑏3 = (0,1,0) ."
      ],
      "metadata": {
        "id": "ZwUi1L1WU6kc"
      }
    },
    {
      "cell_type": "markdown",
      "source": [
        "𝑥 = (2,3,5) = (2,0,0) + (0,3,0) + (0,0,5) =\n",
        " \n",
        "= 0.5⋅(0,0,10) + 1⋅(2,0,0) + 3⋅(0,1,0) = 0.5𝑏1 + 𝑏2 + 3𝑏3\n",
        "\n",
        "координаты вектора (x): (0.5, 1, 3)."
      ],
      "metadata": {
        "id": "CiayVvy4U-S-"
      }
    },
    {
      "cell_type": "markdown",
      "source": [
        "4. Найти координаты вектора  3𝑥2 − 2𝑥 + 2 ∈ ℝ3 [𝑥] :\n",
        "\n",
        "а) в базисе  1 ,  𝑥 ,  𝑥2 ;\n",
        "\n",
        "б) в базисе  𝑥2 ,  𝑥−1 ,  1 ."
      ],
      "metadata": {
        "id": "vrQels4LV_bn"
      }
    },
    {
      "cell_type": "markdown",
      "source": [
        "а) 3𝑥2 − 2𝑥 + 2 = 2⋅1 - 2𝑥 + 3𝑥2 координаты вектора  2⋅1 - 2𝑥 + 3𝑥2 ∈ ℝ3 [𝑥]  в базисе  1 ,  𝑥 ,  𝑥2  равны:  (2, −2, 3)"
      ],
      "metadata": {
        "id": "Rgxer5TjWFGn"
      }
    },
    {
      "cell_type": "markdown",
      "source": [
        "б) 3𝑥2 − 2𝑥 + 2 = 3⋅𝑥2 − 2⋅(𝑥-1) + 0⋅1 координаты вектора  3⋅𝑥2 − 2⋅(𝑥-1) + 0⋅1 ∈ ℝ3 [𝑥]  в базисе  𝑥2 ,  𝑥−1 ,  1  равны:  (3,−2,0)"
      ],
      "metadata": {
        "id": "jInbZhb5W2-S"
      }
    },
    {
      "cell_type": "markdown",
      "source": [
        "5. Установить, является ли линейным подпространством:\n",
        "\n",
        "а) совокупность всех векторов трехмерного пространства, у которых по крайней мере одна из первых двух координат равна нулю;\n",
        "\n",
        "б) все векторы, являющиеся линейными комбинациями данных векторов  {𝑢1,𝑢2,...,𝑢𝑛} ."
      ],
      "metadata": {
        "id": "sNcU42aXW7CB"
      }
    },
    {
      "cell_type": "markdown",
      "source": [
        "а) Не является.\n",
        "Контр-пример: - либо первая координата равна нулю  (0,𝑎,𝑏), тогда вектора параллельны плоскости  𝑌𝑜𝑍  , либо вторая координата равна нулю  (𝑐,0,𝑑), тогда вектора параллельны плоскости  𝑋𝑜𝑍 , либо обе первых координат равны нулю  (0,0,𝑒), тогда вектора параллельны оси  𝑍 .\n",
        "\n",
        "Проведем проверку для случая, когда у первого вектора первая координата равна нулю, а у второго - вторая:\n",
        "\n",
        "(0,𝑎,𝑏) + (𝑐,0,𝑑) = (𝑐,𝑎,𝑏+𝑑), ∉ L\n",
        "\n",
        "Полученные векторы не принадлежат указанному в задании множеству всех векторов, то есть данное множество не является подпространством линейного пространства ℝ3."
      ],
      "metadata": {
        "id": "Rw4a0xg_Zazf"
      }
    },
    {
      "cell_type": "markdown",
      "source": [
        "б) Результаты операций   **𝑢+𝑣**  и   **𝛼⋅𝑢**  также будут являться линейными комбинациями заданных векторов  {𝑢1,𝑢2,...,𝑢𝑛} , поэтому все векторы, являющиеся линейными комбинациями данных векторов  {𝑢1,𝑢2,...,𝑢𝑛}  будут являться линейным подпространством.\n",
        "\n",
        "a = λ₁ * u₁ + λ₂ * u₂ + ... + λₙ * uₙ\n",
        "\n",
        "b = μ₁ * u₁ + μ₂ * u₂ + ... + μₙ * uₙ\n",
        "\n",
        "a + b = (λ₁+μ₁) * u₁ + ... + (λₙ+μₙ) * uₙ\n",
        "\n",
        "α * a = α * λ₁ * u₁ + ... + α * λₙ * uₙ\n"
      ],
      "metadata": {
        "id": "FwGAKVpdZsTs"
      }
    },
    {
      "cell_type": "markdown",
      "source": [
        "**Часть 2.**"
      ],
      "metadata": {
        "id": "edQEOJfXZ6lW"
      }
    },
    {
      "cell_type": "markdown",
      "source": [
        "1. Найти скалярное произведение векторов  𝑥, 𝑦 ∈ℝ :\n",
        "\n",
        "а)  𝑥 = (0,−3,6), 𝑦 = (−4,7,9); \n",
        "\n",
        "б)  𝑥 = (7,−4,0,1), 𝑦 = (−3,1,11,2).\n",
        "\n",
        "\n",
        "Решение:\n",
        "\n",
        "a) (x, y) = 0 * (-4) + (-3) * 7 + 6 * 9 = -21 + 54 = 33\n",
        "\n",
        "б) (x, y) = 7 * (-3) + (-4) * 1 + 0 * 11 + 1 * 2 = -21 + (-4) + 2 = -23"
      ],
      "metadata": {
        "id": "Tx1K_wDVaDGv"
      }
    },
    {
      "cell_type": "code",
      "execution_count": null,
      "metadata": {
        "id": "vsEt-lsMLXkY"
      },
      "outputs": [],
      "source": [
        "import numpy as np\n",
        "from numpy.linalg import norm\n",
        "import matplotlib.pyplot as plt"
      ]
    },
    {
      "cell_type": "code",
      "source": [
        "x = np.array([0, -3, 6])\n",
        "y = np.array([-4, 7, 9])"
      ],
      "metadata": {
        "id": "QkmTnthOaKEE"
      },
      "execution_count": null,
      "outputs": []
    },
    {
      "cell_type": "code",
      "source": [
        "print(f'(x, y)=\\t{x.dot(y)}')"
      ],
      "metadata": {
        "colab": {
          "base_uri": "https://localhost:8080/"
        },
        "id": "rwZGd2B9aMe3",
        "outputId": "ca05191f-f5aa-4536-dc72-a039d7f1218c"
      },
      "execution_count": null,
      "outputs": [
        {
          "output_type": "stream",
          "name": "stdout",
          "text": [
            "(x, y)=\t33\n"
          ]
        }
      ]
    },
    {
      "cell_type": "code",
      "source": [
        "x = np.array([7, -4, 0, 1])\n",
        "y = np.array([-3, 1, 11, 2])"
      ],
      "metadata": {
        "id": "uGzD5aIMaRWA"
      },
      "execution_count": null,
      "outputs": []
    },
    {
      "cell_type": "code",
      "source": [
        "print(f'(x, y)=\\t{x.dot(y)}')"
      ],
      "metadata": {
        "colab": {
          "base_uri": "https://localhost:8080/"
        },
        "id": "zwQi30wEaVH4",
        "outputId": "2d60b1bb-4465-4587-d764-e34abfd479f9"
      },
      "execution_count": null,
      "outputs": [
        {
          "output_type": "stream",
          "name": "stdout",
          "text": [
            "(x, y)=\t-23\n"
          ]
        }
      ]
    },
    {
      "cell_type": "markdown",
      "source": [
        "2. Найти нормы векторов  (4, 2, 4)  и  (12, 3, 4)  и угол между ними."
      ],
      "metadata": {
        "id": "t1T34F5iad3i"
      }
    },
    {
      "cell_type": "markdown",
      "source": [
        "l1 - манхэттенская норма - \n",
        "\n",
        "∥a∥ = |4| + |2| + |4| = 10. \n",
        "\n",
        "∥b∥ = |12| + |3| + |4| = 19.\n",
        "\n",
        "l2 - евклидова норма - \n",
        "\n",
        "∥a∥ = √4² + 2² + 4² = √36 = 6.\n",
        "\n",
        "∥b∥ = √12² + 3² + 4² = √169 = 13."
      ],
      "metadata": {
        "id": "j5mybSJjTSqb"
      }
    },
    {
      "cell_type": "code",
      "source": [
        "a = np.array([4, 2, 4])\n",
        "b = np.array([12, 3, 4])"
      ],
      "metadata": {
        "id": "VP8GDLI4ag4t"
      },
      "execution_count": null,
      "outputs": []
    },
    {
      "cell_type": "code",
      "source": [
        "print(f'l1 норма вектора a:\\t{norm(a, ord=1)}')\n",
        "print(f'l1 норма вектора b:\\t{norm(b, ord=1)}')"
      ],
      "metadata": {
        "colab": {
          "base_uri": "https://localhost:8080/"
        },
        "id": "UJ-Mcfm2akiA",
        "outputId": "26a3a453-d2fe-4c0e-c1aa-de6933318043"
      },
      "execution_count": null,
      "outputs": [
        {
          "output_type": "stream",
          "name": "stdout",
          "text": [
            "l1 норма вектора a:\t10.0\n",
            "l1 норма вектора b:\t19.0\n"
          ]
        }
      ]
    },
    {
      "cell_type": "code",
      "source": [
        "print(f'l2 норма вектора a:\\t{norm(a, ord=2)}')\n",
        "print(f'l2 норма вектора b:\\t{norm(b, ord=2)}')"
      ],
      "metadata": {
        "colab": {
          "base_uri": "https://localhost:8080/"
        },
        "id": "XGRbBJ-qaoVI",
        "outputId": "a7374663-7953-415f-a353-449d3583e72f"
      },
      "execution_count": null,
      "outputs": [
        {
          "output_type": "stream",
          "name": "stdout",
          "text": [
            "l2 норма вектора a:\t6.0\n",
            "l2 норма вектора b:\t13.0\n"
          ]
        }
      ]
    },
    {
      "cell_type": "markdown",
      "source": [
        "\n",
        "cosφ = (a, b) / ∥a∥ ⋅ ∥b∥ \n"
      ],
      "metadata": {
        "id": "kIqt4Hi1XbVQ"
      }
    },
    {
      "cell_type": "code",
      "source": [
        "cos_phi = np.dot(a, b) / norm(a) / norm(b)\n",
        "print(f'Косинус угла между a и b: {cos_phi:.2f}')\n",
        "print(f'Угол между a и b: {np.arccos(cos_phi):.2f}')"
      ],
      "metadata": {
        "colab": {
          "base_uri": "https://localhost:8080/"
        },
        "id": "Oov0_VZSaq0L",
        "outputId": "d506e105-122d-4de1-a196-04586cf38f1e"
      },
      "execution_count": null,
      "outputs": [
        {
          "output_type": "stream",
          "name": "stdout",
          "text": [
            "Косинус угла между a и b: 0.90\n",
            "Угол между a и b: 0.46\n"
          ]
        }
      ]
    },
    {
      "cell_type": "markdown",
      "source": [
        "3. Будет ли линейное пространство евклидовым, если за скалярное произведение принять:\n",
        "\n",
        "а) произведение длин векторов;\n",
        "\n",
        "б) утроенное обычное скалярное произведение векторов?"
      ],
      "metadata": {
        "id": "CngkwVXwaxpI"
      }
    },
    {
      "cell_type": "markdown",
      "source": [
        "а) Нет, так как не выполнится третья аксиома для Евклидова пространства:  (𝑥₁ + 𝑥₂, 𝑦) = (𝑥₁, 𝑦) + (𝑥₂, 𝑦) \n",
        "\n",
        "Она выполнится, только если 𝑥₁ и 𝑥₂ будут коллинеарны. Если же они не коллинеарны, то норма от 𝑥₁ + 𝑥₂ будет меньше, чем нормы от этих векторов по отдельности."
      ],
      "metadata": {
        "id": "oGhDl8BWay1c"
      }
    },
    {
      "cell_type": "markdown",
      "source": [
        "пример: \n",
        "\n",
        "x₁ = (3; 0) |x₁| = 3\n",
        "\n",
        "x₂ = (0; 4)  |x₂| = 4\n",
        "\n",
        "y = (10; 0)  |y| = 10\n",
        "\n",
        "x₁ + x₂ = (3; 4)   |x₁+x₂| = √3² + 4² = 5\n",
        "\n",
        "5 * 10 ≠ 3 * 10 + 4 * 10"
      ],
      "metadata": {
        "id": "ZQdLWlKdZoYz"
      }
    },
    {
      "cell_type": "markdown",
      "source": [
        "б) Да, так как выполнятся все аксиомы для Евклидова пространства\n",
        "\n",
        "3(𝑥₁ + 𝑥₂, 𝑦) = 3(𝑥₁, 𝑦) + 3(𝑥₂, 𝑦)"
      ],
      "metadata": {
        "id": "nsOLKg3na1OI"
      }
    },
    {
      "cell_type": "markdown",
      "source": [
        "4. Какие из нижеперечисленных векторов образуют ортонормированный базис в линейном пространстве  ℝ3 :\n",
        "\n",
        "а)  (1,0,0), (0,0,1); \n",
        "\n",
        "б)  (1/√2,−1/√2,0),(1/√2,1/√2,0),(0,0,1); \n",
        "\n",
        "в)  (1/2,−1/2,0),(0,1/2,1/2),(0,0,1); \n",
        "\n",
        "г)  (1,0,0),(0,1,0),(0,0,1)?"
      ],
      "metadata": {
        "id": "_jSkS3E4a3l5"
      }
    },
    {
      "cell_type": "markdown",
      "source": [
        "а) Образуют ортонормированный базис в  ℝ3 , но не являются базисом  ℝ3 \n"
      ],
      "metadata": {
        "id": "UjIvjoUJa8G6"
      }
    },
    {
      "cell_type": "markdown",
      "source": [
        "б) Образуют ортонормированный базис, так как выполняются условия  (𝑒𝑖,𝑒𝑗)=0   ∀   𝑖≠𝑗  и  (𝑒𝑖,𝑒𝑖)=1   ∀   𝑖∈[1,𝑛].\n",
        "\n",
        "Сколярное произведение векторов самих на себя = 1 (что обеспечивает нормированность), а все возможные сколярные произведения друг на друга = 0 (что обеспечивает ортогональность)."
      ],
      "metadata": {
        "id": "GGTYb9cKa9As"
      }
    },
    {
      "cell_type": "code",
      "source": [
        "a = np.array([1/(2)**0.5, -1/(2)**0.5, 0])\n",
        "b = np.array([1/(2)**0.5, 1/(2)**0.5, 0])\n",
        "c = np.array([0, 0, 1])"
      ],
      "metadata": {
        "id": "im3pcImKbAhb"
      },
      "execution_count": null,
      "outputs": []
    },
    {
      "cell_type": "code",
      "source": [
        "print(f'(a, a)= {a.dot(a):1.0f}')\n",
        "print(f'(b, b)= {b.dot(b):1.0f}')\n",
        "print(f'(c, c)= {c.dot(c):1.0f}')"
      ],
      "metadata": {
        "colab": {
          "base_uri": "https://localhost:8080/"
        },
        "id": "cT24OPHVbC-0",
        "outputId": "9f334f34-9bb4-4704-e1f4-ad25122d1bbd"
      },
      "execution_count": null,
      "outputs": [
        {
          "output_type": "stream",
          "name": "stdout",
          "text": [
            "(a, a)= 1\n",
            "(b, b)= 1\n",
            "(c, c)= 1\n"
          ]
        }
      ]
    },
    {
      "cell_type": "code",
      "source": [
        "print(f'(a, b)= {a.dot(b)}')\n",
        "print(f'(a, c)= {a.dot(c)}')\n",
        "print(f'(c, b)= {c.dot(b)}')"
      ],
      "metadata": {
        "colab": {
          "base_uri": "https://localhost:8080/"
        },
        "id": "GMiog-YubF7m",
        "outputId": "7875b85b-359c-42c3-fa87-1a374ccdc7d4"
      },
      "execution_count": null,
      "outputs": [
        {
          "output_type": "stream",
          "name": "stdout",
          "text": [
            "(a, b)= -2.2371143170757382e-17\n",
            "(a, c)= 0.0\n",
            "(c, b)= 0.0\n"
          ]
        }
      ]
    },
    {
      "cell_type": "markdown",
      "source": [
        "в) Не образуют ортонормированный базис, так как не выполняются условия  (𝑒𝑖,𝑒𝑗)=0   ∀   𝑖≠𝑗  и  (𝑒𝑖,𝑒𝑖)=1   ∀   𝑖∈[1,𝑛]."
      ],
      "metadata": {
        "id": "4i_uLUZSbH8i"
      }
    },
    {
      "cell_type": "code",
      "source": [
        "a = np.array([1/2, -1/2, 0])\n",
        "b = np.array([0, 1/2, 1/2])\n",
        "c = np.array([0, 0, 1])"
      ],
      "metadata": {
        "id": "kf-dOgrgbJ6X"
      },
      "execution_count": null,
      "outputs": []
    },
    {
      "cell_type": "code",
      "source": [
        "print(f'(a, a)= {a.dot(a)}')\n",
        "print(f'(b, b)= {b.dot(b)}')\n",
        "print(f'(c, c)= {c.dot(c)}')"
      ],
      "metadata": {
        "colab": {
          "base_uri": "https://localhost:8080/"
        },
        "id": "KDwJc5o2bLy6",
        "outputId": "c8e8c6a8-b059-4bdb-a4b5-84c3d2dd55e9"
      },
      "execution_count": null,
      "outputs": [
        {
          "output_type": "stream",
          "name": "stdout",
          "text": [
            "(a, a)= 0.5\n",
            "(b, b)= 0.5\n",
            "(c, c)= 1\n"
          ]
        }
      ]
    },
    {
      "cell_type": "code",
      "source": [
        "print(f'(a, b)= {a.dot(b)}')\n",
        "print(f'(a, c)= {a.dot(c)}')\n",
        "print(f'(c, b)= {c.dot(b)}')"
      ],
      "metadata": {
        "colab": {
          "base_uri": "https://localhost:8080/"
        },
        "id": "2trVpQqJbPjH",
        "outputId": "d4f76907-77b9-4629-f455-6050a5141357"
      },
      "execution_count": null,
      "outputs": [
        {
          "output_type": "stream",
          "name": "stdout",
          "text": [
            "(a, b)= -0.25\n",
            "(a, c)= 0.0\n",
            "(c, b)= 0.5\n"
          ]
        }
      ]
    },
    {
      "cell_type": "markdown",
      "source": [
        "г) Образуют ортонормированный базис, так как выполняются условия  (𝑒𝑖,𝑒𝑗)=0   ∀   𝑖≠𝑗  и  (𝑒𝑖,𝑒𝑖)=1   ∀   𝑖∈[1,𝑛].\n",
        "\n",
        "Стандартный базис ℝ³."
      ],
      "metadata": {
        "id": "xgLNSWNQbRG5"
      }
    },
    {
      "cell_type": "code",
      "source": [
        "a = np.array([1, 0, 0])\n",
        "b = np.array([0, 1, 0])\n",
        "c = np.array([0, 0, 1])"
      ],
      "metadata": {
        "id": "1xiqRs-mbTE4"
      },
      "execution_count": null,
      "outputs": []
    },
    {
      "cell_type": "code",
      "source": [
        "print(f'(a, a)= {a.dot(a)}')\n",
        "print(f'(b, b)= {b.dot(b)}')\n",
        "print(f'(c, c)= {c.dot(c)}')"
      ],
      "metadata": {
        "colab": {
          "base_uri": "https://localhost:8080/"
        },
        "id": "MQI4MG9jbVFx",
        "outputId": "85d04a33-b0dd-4de1-f653-c9fa0f349ac3"
      },
      "execution_count": null,
      "outputs": [
        {
          "output_type": "stream",
          "name": "stdout",
          "text": [
            "(a, a)= 1\n",
            "(b, b)= 1\n",
            "(c, c)= 1\n"
          ]
        }
      ]
    },
    {
      "cell_type": "code",
      "source": [
        "print(f'(a, b)= {a.dot(b)}')\n",
        "print(f'(a, c)= {a.dot(c)}')\n",
        "print(f'(c, b)= {c.dot(b)}')"
      ],
      "metadata": {
        "colab": {
          "base_uri": "https://localhost:8080/"
        },
        "id": "uzp_FhUgbXzG",
        "outputId": "cd4dc143-f96b-4f19-85b4-991c2034db1b"
      },
      "execution_count": null,
      "outputs": [
        {
          "output_type": "stream",
          "name": "stdout",
          "text": [
            "(a, b)= 0\n",
            "(a, c)= 0\n",
            "(c, b)= 0\n"
          ]
        }
      ]
    }
  ]
}