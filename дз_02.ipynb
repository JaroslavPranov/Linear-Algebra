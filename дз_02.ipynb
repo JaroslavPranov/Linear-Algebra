{
  "nbformat": 4,
  "nbformat_minor": 0,
  "metadata": {
    "colab": {
      "name": "дз_003.ipynb",
      "provenance": [],
      "collapsed_sections": []
    },
    "kernelspec": {
      "name": "python3",
      "display_name": "Python 3"
    },
    "language_info": {
      "name": "python"
    }
  },
  "cells": [
    {
      "cell_type": "markdown",
      "source": [
        "1. Установить, какие произведения матриц  𝐴𝐵  и  𝐵𝐴  определены, и найти размерности полученных матриц:\n",
        "\n",
        "а)  𝐴  — матрица  4 × 2 ,  𝐵  — матрица  4 × 2 ;\n",
        "\n",
        "б)  𝐴  — матрица  2 × 5 ,  𝐵  — матрица  5 × 3 ;\n",
        "\n",
        "в)  𝐴  — матрица  8 × 3 ,  𝐵  — матрица  3 × 8 ;\n",
        "\n",
        "г)  𝐴  — квадратная матрица  4 × 4 ,  𝐵  — квадратная матрица  4 × 4 ."
      ],
      "metadata": {
        "id": "7SlEudbMITOZ"
      }
    },
    {
      "cell_type": "markdown",
      "source": [
        "а) Нельзя перемножать, т.к. кол-во столбцов у матрицы А не совпадает с кол-вом строк у матрицы В. \n",
        "\n",
        "б) AB - 2 X 3 \n",
        "\n",
        "в) AB - 8 X 8, BA - 3 X 3 \n",
        "\n",
        "г) АВ - 4 X 4, BA - 4 X 4"
      ],
      "metadata": {
        "id": "lJ_stalwK1Lm"
      }
    },
    {
      "cell_type": "markdown",
      "source": [
        "2. Найти сумму и произведение матриц\n",
        "\n",
        "\n",
        "$A = \\begin{pmatrix}\n",
        "1 & -2 \\\\\n",
        "3 & 0\n",
        "\\end{pmatrix}$  и   $B = \\begin{pmatrix}\n",
        "4 & -1 \\\\\n",
        "0 & 5\n",
        "\\end{pmatrix}$."
      ],
      "metadata": {
        "id": "FEBwhJYkNxDw"
      }
    },
    {
      "cell_type": "markdown",
      "source": [
        "Решение:"
      ],
      "metadata": {
        "id": "NwnjXGTmk4fS"
      }
    },
    {
      "cell_type": "markdown",
      "source": [
        "$ 𝐴 + 𝐵 = \\begin{pmatrix}\n",
        "1 & −2\\\\\n",
        "3 & 0\n",
        "\\end{pmatrix}\n",
        "+ \\begin{pmatrix}\n",
        "4 &−1\\\\\n",
        "0 & 5\n",
        "\\end{pmatrix} = \\begin{pmatrix}\n",
        "1 + 4 & -2 -1\\\\\n",
        "3 + 0 & 0 + 5\n",
        "\\end{pmatrix} = \n",
        "\\begin{pmatrix}\n",
        "5 & -3\\\\\n",
        "3 & 5\n",
        "\\end{pmatrix}\n",
        "$\n"
      ],
      "metadata": {
        "id": "9m-5xEqvY6eI"
      }
    },
    {
      "cell_type": "markdown",
      "source": [
        "$ 𝐴 \\cdot 𝐵 = \\begin{pmatrix}\n",
        "1 & −2\\\\\n",
        "3 & 0\n",
        "\\end{pmatrix}\n",
        "\\cdot \\begin{pmatrix}\n",
        "4 &−1\\\\\n",
        "0 & 5\n",
        "\\end{pmatrix} = \\begin{pmatrix}\n",
        "1 \\cdot 4 + -2 \\cdot 0 & 1 \\cdot (-1)-2 \\cdot 5\\\\\n",
        "3 \\cdot 4 + 0 \\cdot 0 & 3 \\cdot (-1) + 0 \\cdot 5\n",
        "\\end{pmatrix} = \n",
        "\\begin{pmatrix}\n",
        "4 & -11\\\\\n",
        "12 & -3\n",
        "\\end{pmatrix}\n",
        "$\n"
      ],
      "metadata": {
        "id": "_FNdX3H1gEA0"
      }
    },
    {
      "cell_type": "markdown",
      "source": [
        "$ B \\cdot A = \\begin{pmatrix}\n",
        "4 & −1\\\\\n",
        "0 & 5\n",
        "\\end{pmatrix}\n",
        "\\cdot \\begin{pmatrix}\n",
        "1 & −2\\\\\n",
        "3 & 0\n",
        "\\end{pmatrix} = \\begin{pmatrix}\n",
        "4 \\cdot 1 + -1 \\cdot 3 & 4 \\cdot (-2) + -1 \\cdot 0\\\\\n",
        "0 \\cdot 1 + 5 \\cdot 3 & 0 \\cdot (-2) + 5 \\cdot 0\n",
        "\\end{pmatrix} = \n",
        "\\begin{pmatrix}\n",
        "1 & -8\\\\\n",
        "15 & 0\n",
        "\\end{pmatrix}\n",
        "$"
      ],
      "metadata": {
        "id": "YPCyUa7hjxL3"
      }
    },
    {
      "cell_type": "code",
      "execution_count": 1,
      "metadata": {
        "colab": {
          "base_uri": "https://localhost:8080/"
        },
        "id": "tQSjXcAcEQEj",
        "outputId": "dc8bf5fc-aad7-4acc-90aa-40bb018be1fa"
      },
      "outputs": [
        {
          "output_type": "stream",
          "name": "stdout",
          "text": [
            "Матрица A\n",
            "[[ 1 -2]\n",
            " [ 3  0]]\n",
            "Матрица B\n",
            "[[ 4 -1]\n",
            " [ 0  5]]\n",
            "Матрица A + B\n",
            "[[ 5 -3]\n",
            " [ 3  5]]\n",
            "Матрица AB\n",
            "[[  4 -11]\n",
            " [ 12  -3]]\n",
            "Матрица BА\n",
            "[[ 1 -8]\n",
            " [15  0]]\n"
          ]
        }
      ],
      "source": [
        "import numpy as np\n",
        "A = np.array([[1, -2], [3, 0]])\n",
        "B = np.array([[4, -1], [0, 5]])\n",
        "print(f'Матрица A\\n{A}')\n",
        "print(f'Матрица B\\n{B}')\n",
        "print(f'Матрица A + B\\n{A + B}')\n",
        "print(f'Матрица AB\\n{np.dot(A, B)}')\n",
        "print(f'Матрица BА\\n{B @ A}')"
      ]
    },
    {
      "cell_type": "markdown",
      "source": [
        "3. Из закономерностей сложения и умножения матриц на число можно сделать вывод, что матрицы одного размера образуют линейное пространство. Вычислить линейную комбинацию  3𝐴 − 2𝐵 + 4𝐶   для матриц  $𝐴 = \\begin{pmatrix}\n",
        "1 & 7 \\\\\n",
        "3 & −6\n",
        "\\end{pmatrix} ,  𝐵 = \\begin{pmatrix}\n",
        "0 & 5 \\\\\n",
        "2 & −1\n",
        "\\end{pmatrix} ,  𝐶 = \\begin{pmatrix}\n",
        "2 & −4 \\\\\n",
        "1 & 1\n",
        "\\end{pmatrix}\n",
        "$."
      ],
      "metadata": {
        "id": "DvupVmwvmP-C"
      }
    },
    {
      "cell_type": "markdown",
      "source": [
        "3A - 2B + 4C = $\\begin{pmatrix}\n",
        "3 & 21 \\\\\n",
        "9 & 18\n",
        "\\end{pmatrix}\n",
        "+ \\begin{pmatrix}\n",
        "0 & -10 \\\\\n",
        "-4 & 2\n",
        "\\end{pmatrix}\n",
        "+ \\begin{pmatrix}\n",
        "8 & -16 \\\\\n",
        "4 & 4\n",
        "\\end{pmatrix}\n",
        "= \\begin{pmatrix}\n",
        "3 + 0 + 8 & 21 - 10 - 16 \\\\\n",
        "9 -4 + 4 & -18 +2 + 4\n",
        "\\end{pmatrix}\n",
        "= \\begin {pmatrix}\n",
        "11 & -5 \\\\\n",
        "9 & -12\n",
        "\\end{pmatrix}\n",
        "$"
      ],
      "metadata": {
        "id": "BE84_94hn4_-"
      }
    },
    {
      "cell_type": "code",
      "source": [
        "A = np.array([[1, 7], [3, -6]])\n",
        "B = np.array([[0, 5], [2, -1]])\n",
        "C = np.array([[2, -4], [1, 1]])\n",
        "print(f'Матрица 3𝐴−2𝐵+4𝐶\\n{3 * A - 2 * B + 4 * C}')"
      ],
      "metadata": {
        "colab": {
          "base_uri": "https://localhost:8080/"
        },
        "id": "4eE0EdFsrjHG",
        "outputId": "0e9cb78d-480a-4745-e0d0-be10bacda587"
      },
      "execution_count": 2,
      "outputs": [
        {
          "output_type": "stream",
          "name": "stdout",
          "text": [
            "Матрица 3𝐴−2𝐵+4𝐶\n",
            "[[ 11  -5]\n",
            " [  9 -12]]\n"
          ]
        }
      ]
    },
    {
      "cell_type": "markdown",
      "source": [
        "4. Дана матрица  $ 𝐴 = \\begin{pmatrix}\n",
        "4 & 1 \\\\\n",
        "5 & -2 \\\\\n",
        "2 & 3\n",
        "\\end{pmatrix}.\\quad Вычислить\\   𝐴\\cdot𝐴^T\\ и\\  𝐴^𝑇\\cdot𝐴.\n",
        "$"
      ],
      "metadata": {
        "id": "Oc_Y-Dwqr7W6"
      }
    },
    {
      "cell_type": "markdown",
      "source": [
        "Транспонированная матрица: $ 𝐴^T = \\begin{pmatrix}\n",
        "4 & 5 & 2 \\\\\n",
        "1 & -2 & 3 \n",
        "\\end{pmatrix}.\n",
        "$"
      ],
      "metadata": {
        "id": "XMMSIEZWwOHG"
      }
    },
    {
      "cell_type": "markdown",
      "source": [
        "$ 𝐴\\cdot𝐴^T\n",
        "=  \\begin{pmatrix}\n",
        "4 & 1 \\\\\n",
        "5 & -2 \\\\\n",
        "2 & 3\n",
        "\\end{pmatrix}\n",
        "·\\begin{pmatrix}\n",
        "4 & 5 & 2 \\\\\n",
        "1 & -2 & 3 \n",
        "\\end{pmatrix}\n",
        "=  \\begin{pmatrix}\n",
        "4 \\cdot 4 + 1 \\cdot 1 & 4 \\cdot 5 + 1 \\cdot (-2) & 4 \\cdot 2 + 1 \\cdot 3 \\\\\n",
        "5 \\cdot 4 - 2 \\cdot 1 & 5 \\cdot 5 - 2 \\cdot (-2) & 5 \\cdot 2 - 2 \\cdot 3 \\\\\n",
        "2 \\cdot 4 + 3 \\cdot 1 & 2 \\cdot 5 + 3 \\cdot (-2) & 2 \\cdot 2 + 3 \\cdot 3\n",
        "\\end{pmatrix}\n",
        "= \\begin{pmatrix}\n",
        "17 & 18 & 11 \\\\\n",
        "18 & 29 & 4 \\\\\n",
        "11 & 4 & 13\n",
        "\\end{pmatrix}\n",
        "$"
      ],
      "metadata": {
        "id": "Y3jPyZA-xqdp"
      }
    },
    {
      "cell_type": "markdown",
      "source": [
        "$ 𝐴^T\\cdot𝐴\n",
        "=  \\begin{pmatrix}\n",
        "4 & 5 & 2 \\\\\n",
        "1 & -2 & 3 \n",
        "\\end{pmatrix}\n",
        "·\\begin{pmatrix}\n",
        "4 & 1 \\\\\n",
        "5 & -2 \\\\\n",
        "2 & 3\n",
        "\\end{pmatrix}\n",
        "=  \\begin{pmatrix}\n",
        "4 \\cdot 4 + 5 \\cdot 5 + 2 \\cdot 2 & 4 \\cdot 1 + 5 \\cdot (-2) + 2 \\cdot 3 \\\\\n",
        "1 \\cdot 4 - 2 \\cdot 5 + 3 \\cdot 2 & 1 \\cdot 1 - 2 \\cdot (-2) + 3 \\cdot 3 \n",
        "\\end{pmatrix}\n",
        "= \\begin{pmatrix}\n",
        "45 & 0 \\\\\n",
        "0 & 14\n",
        "\\end{pmatrix}\n",
        "$"
      ],
      "metadata": {
        "id": "ZPFjCFcm2TL9"
      }
    },
    {
      "cell_type": "code",
      "source": [
        "A = np.array([[4, 1], [5, -2], [2, 3]])\n",
        "print(f'Матрица:\\n{A}')\n",
        "print(f'Транспонированная матрица:\\n{A.T}')\n",
        "print(f'Матрица 𝐴*𝐴𝑇\\n{np.dot(A, A.T)}') # матрица корреляции\n",
        "print(f'Матрица 𝐴𝑇*𝐴\\n{np.dot(A.T, A)}') # матрица ковариации"
      ],
      "metadata": {
        "colab": {
          "base_uri": "https://localhost:8080/"
        },
        "id": "0fDh85O_v2Jd",
        "outputId": "c0823614-3305-4a62-c1c9-5ca0fb2138cc"
      },
      "execution_count": 3,
      "outputs": [
        {
          "output_type": "stream",
          "name": "stdout",
          "text": [
            "Матрица:\n",
            "[[ 4  1]\n",
            " [ 5 -2]\n",
            " [ 2  3]]\n",
            "Транспонированная матрица:\n",
            "[[ 4  5  2]\n",
            " [ 1 -2  3]]\n",
            "Матрица 𝐴*𝐴𝑇\n",
            "[[17 18 11]\n",
            " [18 29  4]\n",
            " [11  4 13]]\n",
            "Матрица 𝐴𝑇*𝐴\n",
            "[[45  0]\n",
            " [ 0 14]]\n"
          ]
        }
      ]
    },
    {
      "cell_type": "markdown",
      "source": [
        "__5*.__ Написать на Python функцию для перемножения двух произвольных матриц, не используя NumPy."
      ],
      "metadata": {
        "id": "WvZwHNG1R5CA"
      }
    },
    {
      "cell_type": "code",
      "source": [
        "def skalar_prod(v1, v2):\n",
        "    return sum([i * j for i, j in zip(v1, v2)])\n",
        "       \n",
        "def matrix_product(A, B, display_result=True):\n",
        "    result = []\n",
        "    try:\n",
        "        for row_a in A:\n",
        "            internal_row = []\n",
        "            for k in range(len(B[0])):\n",
        "                column = [B[i][k] for i in range(len(B))]\n",
        "                internal_row.append(skalar_prod(row_a, column))\n",
        "            result.append(internal_row)\n",
        "        if display_result:\n",
        "            for row in result:\n",
        "                print(row)\n",
        "        return result\n",
        "    except Exception as e:\n",
        "        print('wrong dimensions!')\n",
        "        print(e)"
      ],
      "metadata": {
        "id": "3UbUNsvbR65d"
      },
      "execution_count": 4,
      "outputs": []
    },
    {
      "cell_type": "code",
      "source": [
        "# Проверка\n",
        "a = [[1,2,3],\n",
        "     [5,3,7]]\n",
        "b = [[1,1],\n",
        "     [2,2],\n",
        "     [3,3]]\n",
        "с = matrix_product(a,b)"
      ],
      "metadata": {
        "colab": {
          "base_uri": "https://localhost:8080/"
        },
        "id": "XZTLzifsXa0u",
        "outputId": "d2ee3e39-971e-4214-e94a-a4ee12b27f23"
      },
      "execution_count": 5,
      "outputs": [
        {
          "output_type": "stream",
          "name": "stdout",
          "text": [
            "[14, 14]\n",
            "[32, 32]\n"
          ]
        }
      ]
    },
    {
      "cell_type": "code",
      "source": [
        "# Сравнение с NUMPY\n",
        "import numpy as np\n",
        "a_np = np.array(a)\n",
        "b_np = np.array(b)\n",
        "a_np.dot(b_np)"
      ],
      "metadata": {
        "colab": {
          "base_uri": "https://localhost:8080/"
        },
        "id": "3dHrZZ-TXfsE",
        "outputId": "7503573e-c586-48c7-a006-0a6710d9be07"
      },
      "execution_count": 6,
      "outputs": [
        {
          "output_type": "execute_result",
          "data": {
            "text/plain": [
              "array([[14, 14],\n",
              "       [32, 32]])"
            ]
          },
          "metadata": {},
          "execution_count": 6
        }
      ]
    },
    {
      "cell_type": "markdown",
      "source": [
        "## Часть вторая."
      ],
      "metadata": {
        "id": "N8aeo02yceeO"
      }
    },
    {
      "cell_type": "markdown",
      "source": [
        "1. Вычислить определитель:\n",
        "\n",
        "a)\n",
        "\n",
        "\\begin{vmatrix} 𝑠𝑖𝑛𝑥 & -𝑐𝑜𝑠𝑥 \\\\\n",
        "𝑐𝑜𝑠𝑥 & 𝑠𝑖𝑛𝑥\n",
        "\\end{vmatrix}\n",
        " \n",
        "б)\n",
        "\n",
        "\\begin{vmatrix} \n",
        "4 & 2 & 3 \\\\\n",
        "0 & 5 & 1 \\\\\n",
        "0 & 0 & 9\n",
        "\\end{vmatrix}\n",
        " \n",
        " в)\n",
        "\n",
        "\\begin{vmatrix} \n",
        "1 & 2 & 3 \\\\\n",
        "4 & 5 & 6 \\\\\n",
        "7 & 8 & 9\n",
        "\\end{vmatrix}"
      ],
      "metadata": {
        "id": "yX5D6kvYcrut"
      }
    },
    {
      "cell_type": "markdown",
      "source": [
        "a)\n",
        "Определитель второго порядка, соответствующий этой матрице равен разности произведения элементов, стоящих на главной диагонали этой матрицы, и элементов, стоящих на ее побочной диагонали.\n",
        "\n",
        "𝑠𝑖𝑛(𝑥) ⋅ 𝑠𝑖𝑛(𝑥) − 𝑐𝑜𝑠(𝑥) ⋅ (−𝑐𝑜𝑠(𝑥)) = 𝑠𝑖𝑛²(𝑥) + 𝑐𝑜𝑠²(𝑥) = 1"
      ],
      "metadata": {
        "id": "bMEJT6FfgSPi"
      }
    },
    {
      "cell_type": "markdown",
      "source": [
        "б) Данная матрица приведена к верхней треугольной форме, поэтому опредилитель будет равен произведению элементов по диагонали.\n",
        "\n",
        "4 ⋅ 5 ⋅ 9 = 180\n"
      ],
      "metadata": {
        "id": "UBn6hRXChBop"
      }
    },
    {
      "cell_type": "markdown",
      "source": [
        "в) Ищем опредилитель раскладывая по строкам.\n",
        "\n",
        "\n",
        "$\n",
        "\\begin{vmatrix} \n",
        "1 & 2 & 3 \\\\\n",
        "4 & 5 & 6 \\\\\n",
        "7 & 8 & 9 \n",
        "\\end{vmatrix} \n",
        "$\n",
        "= 7⋅(12 − 15) − 8 ⋅ (6 − 12) + 9 ⋅ ( 5 − 8 ) = − 21 + 48 − 27 = 0\n",
        "\n",
        "\n",
        "= 1⋅(45 − 48) − 2 ⋅ (36 − 42) + 3 ⋅ ( 32 − 35 ) = − 3 + 12 − 9 = 0\n",
        "\n",
        "\n",
        "= −4⋅(18 − 24) + 5 ⋅ (9 − 21) − 6 ⋅ ( 6 − 12 ) = 24 − 60 + 36 = 0"
      ],
      "metadata": {
        "id": "KwNfgcoDlmbk"
      }
    },
    {
      "cell_type": "markdown",
      "source": [
        "2. Определитель матрицы  𝐴  равен  4 . Найти:\n",
        "\n",
        "а)  𝑑𝑒𝑡($𝐴²$) ;\n",
        "\n",
        "б)   𝑑𝑒𝑡($𝐴^𝑇$) ;\n",
        "\n",
        "в)  𝑑𝑒𝑡($2𝐴$) .\n"
      ],
      "metadata": {
        "id": "vtpqw87e3KYL"
      }
    },
    {
      "cell_type": "markdown",
      "source": [
        "а)  $𝑑𝑒𝑡(𝐴^2) = detA \\cdot detA = 4 \\cdot 4 = 16$"
      ],
      "metadata": {
        "id": "P-EnH1aI4P9N"
      }
    },
    {
      "cell_type": "markdown",
      "source": [
        "$б) detA^T = detA = 4$"
      ],
      "metadata": {
        "id": "hCMHypHS6Are"
      }
    },
    {
      "cell_type": "markdown",
      "source": [
        "$в)det(2A) = 2^ndetA = 4 \\cdot 2^n $"
      ],
      "metadata": {
        "id": "SYcnmssI6Skj"
      }
    },
    {
      "cell_type": "markdown",
      "source": [
        "3. Доказать, что матрица\n",
        "\n",
        "\\begin{pmatrix}\n",
        "-2 & 7 & -3 \\\\\n",
        "4 & -14 & 6 \\\\\n",
        "-3 & 7 & 13\n",
        "\\end{pmatrix}\n",
        " \n",
        "вырожденная."
      ],
      "metadata": {
        "id": "lEPMELnn7a_L"
      }
    },
    {
      "cell_type": "markdown",
      "source": [
        "*Решение:*"
      ],
      "metadata": {
        "id": "WaqVeTzo8xVC"
      }
    },
    {
      "cell_type": "markdown",
      "source": [
        "Матрица называется сингулярной, или вырожденной, если ее определитель равен нулю.\n",
        "\n",
        "Если две строки (столбца) матрицы линейно зависимы, то определитель этой матрицы равен нулю."
      ],
      "metadata": {
        "id": "Kac5-P7l83W9"
      }
    },
    {
      "cell_type": "markdown",
      "source": [
        "$Строка\\ 1 \\ и\\ 2\\ являются\\ линейно\\ зависимы:\\quad \\\\\n",
        "𝑥_2= −2⋅𝑥_1$\n",
        " \n"
      ],
      "metadata": {
        "id": "1QJWY3q9-epn"
      }
    },
    {
      "cell_type": "markdown",
      "source": [
        "4. Найти ранг матрицы:\n",
        "\n",
        "а)\n",
        "\n",
        "\\begin{pmatrix}\n",
        "1 & 2 & 3 \\\\\n",
        "1 & 1 & 1 \\\\\n",
        "2 & 3 & 4\n",
        "\\end{pmatrix}\n",
        "\n",
        "\\\\\n",
        "\n",
        "\\begin{pmatrix}\n",
        "1 & 2 & 3 \\\\\n",
        "0 & -1 & -2 \\\\\n",
        "0 & -1 & -2\n",
        "\\end{pmatrix}\n",
        " \n",
        "б)\n",
        "\n",
        "\\begin{pmatrix}\n",
        "0 & 0 & 2 & 1 \\\\\n",
        "0 & 0 & 2 & 2 \\\\\n",
        "0 & 0 & 4 & 3 \\\\\n",
        "2 & 3 & 5 & 6\n",
        "\\end{pmatrix}\n",
        "\n",
        "\\\\\n",
        "\n",
        "\\begin{pmatrix}\n",
        "0 & 0 & 2 & 1 \\\\\n",
        "0 & 0 & 0 & 1 \\\\\n",
        "0 & 0 & 0 & 0 \\\\\n",
        "2 & 3 & 5 & 6\n",
        "\\end{pmatrix}\n"
      ],
      "metadata": {
        "id": "ZIs8MtoW_j1F"
      }
    },
    {
      "cell_type": "markdown",
      "source": [
        "а)\n",
        "\n",
        " Найдем ранг матрицы $A =\n",
        "\\begin{pmatrix}\n",
        "1 & 2 & 3 \\\\\n",
        "1 & 1 & 1 \\\\\n",
        "2 & 3 & 4\n",
        "\\end{pmatrix}$\n",
        "\n",
        "Третья строка является суммой первой и второй строк, а значит, ее можно отбросить:\n",
        "\n",
        "\\begin{pmatrix}\n",
        "1 & 2 & 3 \\\\\n",
        "1 & 1 & 1 \n",
        "\\end{pmatrix}\n",
        "\n",
        "rang = min(m, n)\n",
        "\n",
        "m = 2, n = 3\n",
        "\n",
        "rang A = 2\n",
        "\n",
        "\n"
      ],
      "metadata": {
        "id": "Befo3vXaBIpK"
      }
    },
    {
      "cell_type": "markdown",
      "source": [
        "б)\n",
        "\n",
        "Найдем ранг матрицы $A =\n",
        "\\begin{pmatrix}\n",
        "0 & 0 & 2 & 1 \\\\\n",
        "0 & 0 & 2 & 2 \\\\\n",
        "0 & 0 & 4 & 3 \\\\\n",
        "2 & 3 & 5 & 6\n",
        "\\end{pmatrix}$\n",
        "\n",
        "Приведём матрицу А к треугольной форме - из каждой стоки вычитаем 2.\n",
        "\\begin{pmatrix}\n",
        "0 & 0 & 0 & -1 \\\\\n",
        "0 & 0 & 0 & 0 \\\\\n",
        "0 & 0 & 2 & 1 \\\\\n",
        "0 & 1 & 3 & 4\n",
        "\\end{pmatrix}\n",
        "\n",
        "Транспонируем матрицу А, чтобы явно увидеть главную диагональ, т.к. (m = n), A = $A^T$\n",
        "\\begin{pmatrix}\n",
        "-1 & 0 & 1 & 4 \\\\\n",
        "0 & 0 & 2 & 3 \\\\\n",
        "0 & 0 & 0 & 1 \\\\\n",
        "0 & 0 & 0 & 0\n",
        "\\end{pmatrix}\n",
        "\n",
        "Удалим второй нулевой столбец и у нас получилась верхетреугольная матрица с (m = 3, n = 3), \n",
        "\\begin{pmatrix}\n",
        "-1 & 1 & 4 \\\\\n",
        "0  & 2 & 3 \\\\\n",
        "0  & 0 & 1 \\\\\n",
        "0  & 0 & 0\n",
        "\\end{pmatrix}\n",
        "\n",
        "соответственно rang A = 3. \n"
      ],
      "metadata": {
        "id": "Xt4QKZxeFXjz"
      }
    },
    {
      "cell_type": "code",
      "source": [
        "import numpy as np\n",
        "\n",
        "x = [1, 2, 3]\n",
        "y = [1, 1, 1]\n",
        "z = [2, 3, 4]\n",
        "\n",
        "a = np.array([x, y, z])\n",
        "r = np.linalg.matrix_rank(a)\n",
        "\n",
        "print(f'Ранг матрицы: {r}')"
      ],
      "metadata": {
        "colab": {
          "base_uri": "https://localhost:8080/"
        },
        "id": "Tsu6F8NvOq8x",
        "outputId": "bf4ba273-561e-4d1e-8dcf-5dda6440a6e1"
      },
      "execution_count": 7,
      "outputs": [
        {
          "output_type": "stream",
          "name": "stdout",
          "text": [
            "Ранг матрицы: 2\n"
          ]
        }
      ]
    },
    {
      "cell_type": "code",
      "source": [
        "x = [0, 0, 2, 1]\n",
        "y = [0, 0, 2, 2]\n",
        "z = [0, 0, 4, 3]\n",
        "c = [2, 3, 5, 6]\n",
        "\n",
        "a = np.array([x, y, z, c])\n",
        "r = np.linalg.matrix_rank(a)\n",
        "\n",
        "print(f'Ранг матрицы: {r}')"
      ],
      "metadata": {
        "colab": {
          "base_uri": "https://localhost:8080/"
        },
        "id": "AEBlIs1_OtWg",
        "outputId": "2e5daf10-71f4-4f00-d9a9-923e6083df30"
      },
      "execution_count": 8,
      "outputs": [
        {
          "output_type": "stream",
          "name": "stdout",
          "text": [
            "Ранг матрицы: 3\n"
          ]
        }
      ]
    }
  ]
}